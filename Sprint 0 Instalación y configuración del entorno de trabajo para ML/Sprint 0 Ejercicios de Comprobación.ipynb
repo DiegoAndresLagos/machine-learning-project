{
 "cells": [
  {
   "cell_type": "markdown",
   "id": "933d8786-b74a-42b6-93d3-ab6276f6cfba",
   "metadata": {},
   "source": [
    "***Diego Andrés Lagos Ibarra***    \n",
    "***Business Intelligence Analyst | Data Analyst***  \n",
    "[LinkedIn](https://www.linkedin.com/in/diego-lagos-data-analyst-bi/)    \n",
    "[diegoandres0905@gmail.com](mailto:diegoandres0905@gmail.com)  "
   ]
  },
  {
   "cell_type": "markdown",
   "id": "c3d7f47f-2c93-4547-bae8-6d10bdf32e9a",
   "metadata": {},
   "source": [
    "# Cálculos sencillos y lenguaje Markdown .md"
   ]
  },
  {
   "cell_type": "markdown",
   "id": "35520f32",
   "metadata": {},
   "source": [
    "# Sección de suma, resta, división, multiplicación, exponente"
   ]
  },
  {
   "cell_type": "markdown",
   "id": "e0b26439",
   "metadata": {},
   "source": [
    "## 1.1 Suma"
   ]
  },
  {
   "cell_type": "code",
   "execution_count": 1,
   "id": "3d9d7f66",
   "metadata": {},
   "outputs": [
    {
     "data": {
      "text/plain": [
       "2"
      ]
     },
     "execution_count": 1,
     "metadata": {},
     "output_type": "execute_result"
    }
   ],
   "source": [
    "1 + 1"
   ]
  },
  {
   "cell_type": "markdown",
   "id": "14e0d712-9c1d-4ee8-81f1-2ff99005d9e3",
   "metadata": {},
   "source": [
    "## 1.12 Resta"
   ]
  },
  {
   "cell_type": "code",
   "execution_count": 1,
   "id": "ea245cf8",
   "metadata": {},
   "outputs": [
    {
     "data": {
      "text/plain": [
       "1"
      ]
     },
     "execution_count": 1,
     "metadata": {},
     "output_type": "execute_result"
    }
   ],
   "source": [
    "2 - 1 # por legibilidad se acostrumbra a dar un especio entre signo y numeros"
   ]
  },
  {
   "cell_type": "markdown",
   "id": "eac3f270",
   "metadata": {},
   "source": [
    "## 1.2 Multiplicación"
   ]
  },
  {
   "cell_type": "code",
   "execution_count": 2,
   "id": "1e150556",
   "metadata": {},
   "outputs": [
    {
     "data": {
      "text/plain": [
       "4"
      ]
     },
     "execution_count": 2,
     "metadata": {},
     "output_type": "execute_result"
    }
   ],
   "source": [
    "2 * 2"
   ]
  },
  {
   "cell_type": "markdown",
   "id": "2c92ec31",
   "metadata": {},
   "source": [
    "## 1.3 División"
   ]
  },
  {
   "cell_type": "code",
   "execution_count": 3,
   "id": "1c578028",
   "metadata": {},
   "outputs": [
    {
     "data": {
      "text/plain": [
       "2.0"
      ]
     },
     "execution_count": 3,
     "metadata": {},
     "output_type": "execute_result"
    }
   ],
   "source": [
    "8 / 4"
   ]
  },
  {
   "cell_type": "markdown",
   "id": "a35f8a31",
   "metadata": {},
   "source": [
    "## 1.3 Exponente"
   ]
  },
  {
   "cell_type": "code",
   "execution_count": 4,
   "id": "98d442f8",
   "metadata": {},
   "outputs": [
    {
     "data": {
      "text/plain": [
       "49"
      ]
     },
     "execution_count": 4,
     "metadata": {},
     "output_type": "execute_result"
    }
   ],
   "source": [
    "7 ** 2"
   ]
  },
  {
   "cell_type": "markdown",
   "id": "4ab0e4b2-de2d-43fa-874a-dd6710fbcf45",
   "metadata": {},
   "source": [
    "# Variables"
   ]
  },
  {
   "cell_type": "markdown",
   "id": "653fb306",
   "metadata": {},
   "source": [
    "## 1.4 Almacenar un valor en una variable"
   ]
  },
  {
   "cell_type": "code",
   "execution_count": 6,
   "id": "5bb568eb",
   "metadata": {},
   "outputs": [],
   "source": [
    "r = 7 + 3"
   ]
  },
  {
   "cell_type": "code",
   "execution_count": 7,
   "id": "8e1408b3",
   "metadata": {},
   "outputs": [
    {
     "data": {
      "text/plain": [
       "10"
      ]
     },
     "execution_count": 7,
     "metadata": {},
     "output_type": "execute_result"
    }
   ],
   "source": [
    "r"
   ]
  },
  {
   "cell_type": "markdown",
   "id": "d2f5353a",
   "metadata": {},
   "source": [
    "## 1.5 Reutilizar un variable dentro de otra variable"
   ]
  },
  {
   "cell_type": "code",
   "execution_count": 9,
   "id": "d56a769b",
   "metadata": {},
   "outputs": [],
   "source": [
    "r2 = r + 5"
   ]
  },
  {
   "cell_type": "code",
   "execution_count": 10,
   "id": "c28a5891",
   "metadata": {},
   "outputs": [
    {
     "data": {
      "text/plain": [
       "15"
      ]
     },
     "execution_count": 10,
     "metadata": {},
     "output_type": "execute_result"
    }
   ],
   "source": [
    "r2"
   ]
  },
  {
   "cell_type": "markdown",
   "id": "ebb689c3-27f8-469d-9b69-78a34d10a40a",
   "metadata": {},
   "source": [
    "## Profundización sobre Operadores en Python"
   ]
  },
  {
   "cell_type": "markdown",
   "id": "9a5dd85b-2850-4ad1-9cc6-f0b16f8d0bde",
   "metadata": {},
   "source": [
    "### Operadores aritméticos"
   ]
  },
  {
   "cell_type": "code",
   "execution_count": 5,
   "id": "3dffec32-6fde-41d2-94ba-c94035b2c40e",
   "metadata": {},
   "outputs": [
    {
     "name": "stdout",
     "output_type": "stream",
     "text": [
      "Suma: 13\n",
      "Resta: 7\n",
      "Multiplicación: 30\n",
      "División: 3.3333333333333335\n",
      "División entera: 3\n",
      "Módulo (resto): 1\n",
      "Exponenciación: 1000\n"
     ]
    }
   ],
   "source": [
    "a = 10\n",
    "b = 3\n",
    "print(\"Suma:\", a + b)          # 10 + 3 = 13\n",
    "print(\"Resta:\", a - b)         # 10 - 3 = 7\n",
    "print(\"Multiplicación:\", a * b) # 10 * 3 = 30\n",
    "print(\"División:\", a / b)      # 10 / 3 = 3.3333\n",
    "print(\"División entera:\", a // b) # 10 // 3 = 3\n",
    "print(\"Módulo (resto):\", a % b)   # 10 % 3 = 1\n",
    "print(\"Exponenciación:\", a ** b)  # 10 ** 3 = 1000\n"
   ]
  },
  {
   "cell_type": "markdown",
   "id": "84fd084e-b9e3-4280-808e-55b2d7287d43",
   "metadata": {},
   "source": [
    "### Operadores de comparación"
   ]
  },
  {
   "cell_type": "code",
   "execution_count": 6,
   "id": "8beabe71-4a21-453b-a939-80649e83ea86",
   "metadata": {},
   "outputs": [
    {
     "name": "stdout",
     "output_type": "stream",
     "text": [
      "Igual a: False\n",
      "Distinto de: True\n",
      "Mayor que: True\n",
      "Menor que: False\n",
      "Mayor o igual que: True\n",
      "Menor o igual que: False\n"
     ]
    }
   ],
   "source": [
    "a = 10\n",
    "b = 3\n",
    "\n",
    "print(\"Igual a:\", a == b)      # False\n",
    "print(\"Distinto de:\", a != b)  # True\n",
    "print(\"Mayor que:\", a > b)     # True\n",
    "print(\"Menor que:\", a < b)     # False\n",
    "print(\"Mayor o igual que:\", a >= b)  # True\n",
    "print(\"Menor o igual que:\", a <= b)  # False\n"
   ]
  },
  {
   "cell_type": "markdown",
   "id": "96ed2aa8-bc75-4de2-b008-7ff547608d44",
   "metadata": {},
   "source": [
    "### Operadores lógicos"
   ]
  },
  {
   "cell_type": "code",
   "execution_count": 7,
   "id": "905582f5-4166-4f4c-802d-d0ca71b96185",
   "metadata": {},
   "outputs": [
    {
     "name": "stdout",
     "output_type": "stream",
     "text": [
      "AND lógico: False\n",
      "OR lógico: True\n",
      "NOT lógico: False\n"
     ]
    }
   ],
   "source": [
    "x = True\n",
    "y = False\n",
    "print(\"AND lógico:\", x and y)  # False\n",
    "print(\"OR lógico:\", x or y)    # True\n",
    "print(\"NOT lógico:\", not x)    # False"
   ]
  },
  {
   "cell_type": "markdown",
   "id": "4d11a924-cf11-4b6d-96dc-1f1a6b0fd62e",
   "metadata": {},
   "source": [
    "### Operadores de asignación"
   ]
  },
  {
   "cell_type": "code",
   "execution_count": 10,
   "id": "b746c74a-7837-40bd-8655-bde474ca1d13",
   "metadata": {},
   "outputs": [
    {
     "name": "stdout",
     "output_type": "stream",
     "text": [
      "Valor inicial de c: 5\n",
      "c += 2: 7\n",
      "c -= 1: 6\n",
      "c *= 3: 18\n",
      "c /= 2: 9.0\n"
     ]
    }
   ],
   "source": [
    "c = 5\n",
    "print(\"Valor inicial de c:\", c)\n",
    "c += 2\n",
    "print(\"c += 2:\", c)            # c = c + 2 -> 7\n",
    "c -= 1\n",
    "print(\"c -= 1:\", c)            # c = c - 1 -> 6\n",
    "c *= 3\n",
    "print(\"c *= 3:\", c)            # c = c * 3 -> 18\n",
    "c /= 2\n",
    "print(\"c /= 2:\", c)            # c = c / 2 -> 9.0\n"
   ]
  },
  {
   "cell_type": "markdown",
   "id": "77203c60-5190-4e17-8ade-3181e22e945e",
   "metadata": {},
   "source": [
    "### Operadores de identidad"
   ]
  },
  {
   "cell_type": "code",
   "execution_count": 18,
   "id": "ba8c50e9-80e0-4e22-9ef6-b576ac32162e",
   "metadata": {},
   "outputs": [
    {
     "name": "stdout",
     "output_type": "stream",
     "text": [
      "lista1 is lista2: True\n",
      "lista1 is lista3: False\n",
      "lista1 is not lista3: True\n"
     ]
    }
   ],
   "source": [
    "lista1 = [1, 2, 3]\n",
    "lista2 = lista1\n",
    "lista3 = [1, 2, 3]\n",
    "print(\"lista1 is lista2:\", lista1 is lista2)  # True (mismo objeto en memoria)\n",
    "print(\"lista1 is lista3:\", lista1 is lista3)  # False (diferentes objetos en memoria)\n",
    "print(\"lista1 is not lista3:\", lista1 is not lista3)  # True"
   ]
  },
  {
   "cell_type": "markdown",
   "id": "5d0fff34-61e2-46ed-b502-53603777c75f",
   "metadata": {},
   "source": [
    "### Operadores de pertenencia"
   ]
  },
  {
   "cell_type": "code",
   "execution_count": 19,
   "id": "609b517a-caba-43b6-b17d-567c8e28b6a7",
   "metadata": {},
   "outputs": [
    {
     "name": "stdout",
     "output_type": "stream",
     "text": [
      "'P' in cadena: True\n",
      "'x' not in cadena: True\n"
     ]
    }
   ],
   "source": [
    "cadena = \"Python\"\n",
    "print(\"'P' in cadena:\", 'P' in cadena)      # True\n",
    "print(\"'x' not in cadena:\", 'x' not in cadena)  # True"
   ]
  },
  {
   "cell_type": "markdown",
   "id": "a837e212",
   "metadata": {},
   "source": [
    "## Atajos"
   ]
  },
  {
   "cell_type": "markdown",
   "id": "4cd25597",
   "metadata": {},
   "source": [
    "+ ***ESC y Enter:*** Me sirven para ingresar y salir de una celda, cuando ingreso se pone color verde, cuando salgo color celeste, si esta en naranja (modo comando) significa que no se ha ejecutado, basta con correrla y pondrá en verde (modo edición)\n",
    "\n",
    "+ ***Letra M :*** Cuando tengo la celda en celeste y le doy la letra M convierte la celda en markdown\n",
    "\n",
    "+ ***Letra Y :*** Cuando tengo la celda en celeste y le doy la letra Y convierte la celda a codigo \n",
    "\n",
    "+ ***Letra D:*** cuando estoy en celeste y le doy la letra D, borro la celda\n",
    "\n",
    "+ ***Ship + Enter:*** Ejecuto la celda o en otras palabras, Run\n",
    "\n",
    "+ ***La letra A*** con la celda en celeste crea una celda arriba, above\n",
    "\n",
    "+ ***La letra B*** con la celda en celeste crear una celda abajo, below\n",
    "\n",
    "+ ***Celda Markdown con #*** puedo crear titulos o subtitulos con mas de un #\n",
    "\n",
    "+ ***Dentro de una celda de codigo si pongo #*** puedo hacer un comentario sin que sea una celda de markdown\n",
    "\n",
    "+ ***ctrl + s :*** comando para guardar el trabajo de una notebook, recuerda que los trabajos no se guardan solos y es importante esta guardando para no perder los avances."
   ]
  },
  {
   "cell_type": "markdown",
   "id": "cd720993",
   "metadata": {},
   "source": [
    "## Librerías\n",
    "\n",
    "En Python, una librería es un conjunto de módulos que contienen funciones y clases predefinidas que se utilizan para realizar tareas específicas sin tener que escribir el código desde cero."
   ]
  },
  {
   "cell_type": "markdown",
   "id": "fe77559f",
   "metadata": {},
   "source": [
    "## Ambientes"
   ]
  },
  {
   "cell_type": "markdown",
   "id": "d7f63830",
   "metadata": {},
   "source": [
    "Un ambiente en Anaconda es un entorno aislado en el que puedes instalar paquetes y gestionar diferentes versiones de bibliotecas y del propio Python. Esto te permite tener configuraciones separadas para distintos proyectos, evitando conflictos entre versiones de paquetes o dependencias. Cada ambiente puede tener su propio conjunto de paquetes, independientemente del entorno global de Anaconda o de otros ambientes.Además de Python, también puedes crear ambientes para R, un lenguaje de programación especializado en análisis estadístico y gráficos. Al igual que con Python, puedes instalar versiones específicas de R y sus paquetes dentro de un ambiente, manteniéndolos aislados de otros proyectos. Anaconda facilita la instalación y gestión de bibliotecas de R, como ggplot2 o dplyr, lo que permite trabajar con múltiples versiones de R en distintos ambientes sin generar conflictos. Esto es útil para quienes trabajan tanto con Python como con R, ya que Anaconda proporciona herramientas para ambos lenguajes en un solo ecosistema.\n",
    "\n",
    "Puedo crear ambientes desde Anaconda pero tambien puedo hacerlo directamente desde python, sin embargo en anaconda es muy sencillo, basta con ir a home page de anaconda en el lado izquierdo tengo \"environments\" y le doy \"crear\" luego elijo la versión de python y si necesito r tambien puedo elegir su versión, luego reviso las librerias que necesite especificamente utilizar y si no estan instaladas las instalo para que ese ambiente especifico funcione como lo necesito a medida, tanto en las librerias como las versiones para mi ambiente especifico, puedo crear tantos ambientes como sean necesarios, es importante tenere en cuenta que para cada ambiente debo instalar Jupyter Notebook para poder utilizarlo. Algunas de las ventajas de los ambientes es que puede hacer pruebas con diferentes versiones y de pendiendo del proyecto utilizar las librerias que requiero a medida."
   ]
  },
  {
   "cell_type": "markdown",
   "id": "4f6356b4-9ade-4bdb-aba7-d4b496037d69",
   "metadata": {},
   "source": [
    "## Más de Markdown .md"
   ]
  },
  {
   "cell_type": "markdown",
   "id": "60461720-02b7-479e-ba05-08911060292a",
   "metadata": {},
   "source": [
    "+ *cursiva con asteriscos*\n",
    "+ _cursiva con guión bajo_\n",
    "+ **texto en negrita con doble asterisco**\n",
    "+ __texto en negrita con doble guión bajo__\n",
    "+ ***texto en negrita y cursiva con 3 asteriscos***\n",
    "+ ___texto en negrita y cursiva con 3 guión bajo___\n",
    "+ ~~texto tachado con dos virgulillas~~\n",
    "+ # Título 1\n",
    "+ ## Título 2\n",
    "+ ### Título 3\n",
    "+ #### Título 4\n",
    "+ ##### Título 5\n",
    "+ ###### Título 6\n",
    "+ Introduzco dos espacios en blanco al final de esta linea (dos espacios aqui)    \n",
    "  para que markdown los entienda como un salto de linea (dos espacios aqui)  \n",
    "  de esa forma no une el texto en una sola linea\n",
    "+ ![Utilizo esta esta estructura para insertar una imagen](https://upload.wikimedia.org/wikipedia/en/c/cd/Anaconda_Logo.png)\n"
   ]
  }
 ],
 "metadata": {
  "kernelspec": {
   "display_name": "Python 3 (ipykernel)",
   "language": "python",
   "name": "python3"
  },
  "language_info": {
   "codemirror_mode": {
    "name": "ipython",
    "version": 3
   },
   "file_extension": ".py",
   "mimetype": "text/x-python",
   "name": "python",
   "nbconvert_exporter": "python",
   "pygments_lexer": "ipython3",
   "version": "3.12.5"
  }
 },
 "nbformat": 4,
 "nbformat_minor": 5
}
